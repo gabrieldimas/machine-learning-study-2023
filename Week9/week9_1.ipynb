{
  "nbformat": 4,
  "nbformat_minor": 0,
  "metadata": {
    "colab": {
      "provenance": [],
      "authorship_tag": "ABX9TyPCdRKAG9jxBMUQcfVKvvu8",
      "include_colab_link": true
    },
    "kernelspec": {
      "name": "python3",
      "display_name": "Python 3"
    },
    "language_info": {
      "name": "python"
    }
  },
  "cells": [
    {
      "cell_type": "markdown",
      "metadata": {
        "id": "view-in-github",
        "colab_type": "text"
      },
      "source": [
        "<a href=\"https://colab.research.google.com/github/gabrieldimas/machine-learning-study-2023/blob/main/Week9/week9_1.ipynb\" target=\"_parent\"><img src=\"https://colab.research.google.com/assets/colab-badge.svg\" alt=\"Open In Colab\"/></a>"
      ]
    },
    {
      "cell_type": "markdown",
      "source": [
        "### Praktikum 1"
      ],
      "metadata": {
        "id": "G5x498N157xe"
      }
    },
    {
      "cell_type": "code",
      "execution_count": 1,
      "metadata": {
        "id": "BlAf9anr56HZ"
      },
      "outputs": [],
      "source": [
        "import numpy as np\n",
        "import tensorflow_datasets as tfds\n",
        "import tensorflow as tf\n",
        "\n",
        "tfds.disable_progress_bar()"
      ]
    },
    {
      "cell_type": "code",
      "source": [
        "import matplotlib.pyplot as plt\n",
        "\n",
        "def plot_graphs(history, metric):\n",
        "  plt.plot(history.history[metric])\n",
        "  plt.plot(history.history['val_'+metric], '')\n",
        "  plt.xlabel(\"Epochs\")\n",
        "  plt.ylabel(metric)\n",
        "  plt.legend([metric, 'val_'+metric])"
      ],
      "metadata": {
        "id": "iUCynnIa6Ab6"
      },
      "execution_count": 5,
      "outputs": []
    },
    {
      "cell_type": "code",
      "source": [
        "dataset, info = tfds.load('imdb_reviews', with_info=True,\n",
        "                          as_supervised=True)\n",
        "train_dataset, test_dataset = dataset['train'], dataset['test']\n",
        "\n",
        "train_dataset.element_spec"
      ],
      "metadata": {
        "colab": {
          "base_uri": "https://localhost:8080/"
        },
        "id": "fQ8KtfFL6K7x",
        "outputId": "6c9e2061-bdca-4b6a-8de4-83b3b53fb7db"
      },
      "execution_count": 6,
      "outputs": [
        {
          "output_type": "stream",
          "name": "stdout",
          "text": [
            "Downloading and preparing dataset 80.23 MiB (download: 80.23 MiB, generated: Unknown size, total: 80.23 MiB) to /root/tensorflow_datasets/imdb_reviews/plain_text/1.0.0...\n",
            "Dataset imdb_reviews downloaded and prepared to /root/tensorflow_datasets/imdb_reviews/plain_text/1.0.0. Subsequent calls will reuse this data.\n"
          ]
        },
        {
          "output_type": "execute_result",
          "data": {
            "text/plain": [
              "(TensorSpec(shape=(), dtype=tf.string, name=None),\n",
              " TensorSpec(shape=(), dtype=tf.int64, name=None))"
            ]
          },
          "metadata": {},
          "execution_count": 6
        }
      ]
    },
    {
      "cell_type": "code",
      "source": [
        "for example, label in train_dataset.take(1):\n",
        "  print('text: ', example.numpy())\n",
        "  print('label: ', label.numpy())"
      ],
      "metadata": {
        "colab": {
          "base_uri": "https://localhost:8080/"
        },
        "id": "Aovq3ulD6aVS",
        "outputId": "18df77bf-5f59-4808-bc02-2337fbe637c0"
      },
      "execution_count": 7,
      "outputs": [
        {
          "output_type": "stream",
          "name": "stdout",
          "text": [
            "text:  b\"This was an absolutely terrible movie. Don't be lured in by Christopher Walken or Michael Ironside. Both are great actors, but this must simply be their worst role in history. Even their great acting could not redeem this movie's ridiculous storyline. This movie is an early nineties US propaganda piece. The most pathetic scenes were those when the Columbian rebels were making their cases for revolutions. Maria Conchita Alonso appeared phony, and her pseudo-love affair with Walken was nothing but a pathetic emotional plug in a movie that was devoid of any real meaning. I am disappointed that there are movies like this, ruining actor's like Christopher Walken's good name. I could barely sit through it.\"\n",
            "label:  0\n"
          ]
        }
      ]
    },
    {
      "cell_type": "code",
      "source": [
        "BUFFER_SIZE = 10000\n",
        "BATCH_SIZE = 64\n",
        "\n",
        "train_dataset = train_dataset.shuffle(BUFFER_SIZE).batch(BATCH_SIZE).prefetch(tf.data.AUTOTUNE)\n",
        "test_dataset = test_dataset.batch(BATCH_SIZE).prefetch(tf.data.AUTOTUNE)\n",
        "\n",
        "for example, label in train_dataset.take(1):\n",
        "  print('texts: ', example.numpy()[:3])\n",
        "  print()\n",
        "  print('labels: ', label.numpy()[:3])\n"
      ],
      "metadata": {
        "colab": {
          "base_uri": "https://localhost:8080/"
        },
        "id": "2dcdAQ1U6oUh",
        "outputId": "63b94de7-681d-45d4-d65c-389c06fa15f3"
      },
      "execution_count": 8,
      "outputs": [
        {
          "output_type": "stream",
          "name": "stdout",
          "text": [
            "texts:  [b'I watched \\'Ice Age\\'in the movie theater and I liked the movie. Spite of the fact that \\'Ice Age\\'has many flaws and scientific errors,like humans,sabers,dinosaurs and mammoths living at the same period, and even the location of where the story passes(looks North America,but has some characteristics from Iceland for example) we can have fun even so.(unless you are very severe!) <br /><br />The planet is entering an ICE AGE, and many animals are immigrating to the south where is warmer. Sid is a stupid Sloth that is left behind by his own family, that can\\'t stand him any longer.Walking in his way, he meets Manfred,or how he calls \\'\\' Manny\\'\\' a moody mammoth who does not care about extinction or immigration and is going to the north. Worried that he can easily be captured, Sid decides to follow Manfred, and in the middle of their journey, they found a human mother with her baby. The mother dies but Manfred and Sid decides to take him and return the baby for the humans. Diego, one of the sabers, decides to follow and help them to go to a shortcut to the human\\'s camp. What Manfred and Sid does not know, is that Diego is from a saber clan who hates humans and wants to kill the baby, and also pretend to betray they both to make they become saber\\'s food. What will happen, will depend of Diego\\'s behavior and conscience...<br /><br />aka \"A Era do Gelo\" - Brazil'\n",
            " b\"If you a purist, don't waste your time - otherwise, hold onto your hat and enjoy the adventure. I loved the Stewart Granger/Deborah Kerr version - I've seen it dozens of times, but this film is every bit as good, only different. I won't detail the differences because it would spoil the film. Also, it is a pleasure to see Alison Doody again (I'm a huge Indiana Jones fan), Patrick Swayze is good as Quatermain, and the supporting cast is superb. I find the quality of the supporting cast one of the trademarks of a Hallmark Production and this film was no exception. The cinematography is splendid and the score is perfect. If you are looking for entertainment, you won't be disappointed.\"\n",
            " b'Saturday June 3, 6:30pm The Neptune<br /><br />Monday June 5, 4:30pm The Neptune<br /><br />Few celebrations of ethnic and cultural identity succeed as mightily as Carlos Saura\\'s brilliant interpretation of Isaac Albeniz\\' masterpiece Iberia Suite. At the approach of its centennial, Saura drew together an unprecedented wealth of talent from the Spanish performing arts community to create this quintessential love song to their homeland. The twelve \"impressions\" of the suite are presented without narrative in stark surroundings, allowing the power of each performance to explode before Saura\\'s camera. Creative use of large flats and mirrors, moved throughout the set, combined with screens, shadows, fire, rain and rear projection add glorious dramatic effects to the varied selections of song, dance and instrumental performance. Photographs of Albeniz reappear throughout the program, connecting the passion of the music to its great creator. Saura encompasses all Spaniards on his stage from the beautiful elegance of elderly flamenco dancers in traditional costume to children joyously dancing with their instructors.']\n",
            "\n",
            "labels:  [1 1 1]\n"
          ]
        }
      ]
    },
    {
      "cell_type": "code",
      "source": [
        "VOCAB_SIZE = 1000\n",
        "encoder = tf.keras.layers.TextVectorization(\n",
        "    max_tokens=VOCAB_SIZE)\n",
        "encoder.adapt(train_dataset.map(lambda text, label: text))"
      ],
      "metadata": {
        "id": "w87TdtPL6qO3"
      },
      "execution_count": 9,
      "outputs": []
    },
    {
      "cell_type": "code",
      "source": [
        "vocab=np.array(encoder.get_vocabulary())\n",
        "vocab[:20]"
      ],
      "metadata": {
        "colab": {
          "base_uri": "https://localhost:8080/"
        },
        "id": "ilgC9Vch6sxf",
        "outputId": "85fff72b-828b-414d-e20e-46091b0c6dca"
      },
      "execution_count": 11,
      "outputs": [
        {
          "output_type": "execute_result",
          "data": {
            "text/plain": [
              "array(['', '[UNK]', 'the', 'and', 'a', 'of', 'to', 'is', 'in', 'it', 'i',\n",
              "       'this', 'that', 'br', 'was', 'as', 'for', 'with', 'movie', 'but'],\n",
              "      dtype='<U14')"
            ]
          },
          "metadata": {},
          "execution_count": 11
        }
      ]
    },
    {
      "cell_type": "code",
      "source": [
        "encoded_example=encoder(example)[:3].numpy()\n",
        "encoded_example"
      ],
      "metadata": {
        "colab": {
          "base_uri": "https://localhost:8080/"
        },
        "id": "TR_xq7b56vu-",
        "outputId": "535f8053-e9f5-4b23-ae87-b3afdfb077f1"
      },
      "execution_count": 13,
      "outputs": [
        {
          "output_type": "execute_result",
          "data": {
            "text/plain": [
              "array([[ 10, 284,   1, ...,   0,   0,   0],\n",
              "       [ 45,  23,   4, ...,   0,   0,   0],\n",
              "       [  1,   1, 442, ...,   0,   0,   0]])"
            ]
          },
          "metadata": {},
          "execution_count": 13
        }
      ]
    },
    {
      "cell_type": "code",
      "source": [
        "for n in range(3):\n",
        "  print(\"Original: \", example[n].numpy())\n",
        "  print(\"Round-trip: \", \" \".join(vocab[encoded_example[n]]))\n",
        "  print()"
      ],
      "metadata": {
        "colab": {
          "base_uri": "https://localhost:8080/"
        },
        "id": "KLLh3MQU60E4",
        "outputId": "4a4c6b92-4e1f-472f-f864-8bc90cf4fe25"
      },
      "execution_count": 14,
      "outputs": [
        {
          "output_type": "stream",
          "name": "stdout",
          "text": [
            "Original:  b'I watched \\'Ice Age\\'in the movie theater and I liked the movie. Spite of the fact that \\'Ice Age\\'has many flaws and scientific errors,like humans,sabers,dinosaurs and mammoths living at the same period, and even the location of where the story passes(looks North America,but has some characteristics from Iceland for example) we can have fun even so.(unless you are very severe!) <br /><br />The planet is entering an ICE AGE, and many animals are immigrating to the south where is warmer. Sid is a stupid Sloth that is left behind by his own family, that can\\'t stand him any longer.Walking in his way, he meets Manfred,or how he calls \\'\\' Manny\\'\\' a moody mammoth who does not care about extinction or immigration and is going to the north. Worried that he can easily be captured, Sid decides to follow Manfred, and in the middle of their journey, they found a human mother with her baby. The mother dies but Manfred and Sid decides to take him and return the baby for the humans. Diego, one of the sabers, decides to follow and help them to go to a shortcut to the human\\'s camp. What Manfred and Sid does not know, is that Diego is from a saber clan who hates humans and wants to kill the baby, and also pretend to betray they both to make they become saber\\'s food. What will happen, will depend of Diego\\'s behavior and conscience...<br /><br />aka \"A Era do Gelo\" - Brazil'\n",
            "Round-trip:  i watched [UNK] [UNK] the movie theater and i liked the movie [UNK] of the fact that [UNK] [UNK] many [UNK] and [UNK] [UNK] [UNK] and [UNK] living at the same period and even the [UNK] of where the story [UNK] [UNK] [UNK] has some [UNK] from [UNK] for example we can have fun even [UNK] you are very [UNK] br br the [UNK] is [UNK] an [UNK] age and many [UNK] are [UNK] to the [UNK] where is [UNK] [UNK] is a stupid [UNK] that is left behind by his own family that cant stand him any [UNK] in his way he meets [UNK] how he [UNK] [UNK] a [UNK] [UNK] who does not care about [UNK] or [UNK] and is going to the [UNK] [UNK] that he can easily be [UNK] [UNK] [UNK] to follow [UNK] and in the middle of their [UNK] they found a human mother with her baby the mother [UNK] but [UNK] and [UNK] [UNK] to take him and return the baby for the [UNK] [UNK] one of the [UNK] [UNK] to follow and help them to go to a [UNK] to the [UNK] [UNK] what [UNK] and [UNK] does not know is that [UNK] is from a [UNK] [UNK] who [UNK] [UNK] and wants to kill the baby and also [UNK] to [UNK] they both to make they become [UNK] [UNK] what will happen will [UNK] of [UNK] [UNK] and [UNK] br [UNK] a [UNK] do [UNK] [UNK]                                                                                                                                                                                                                                                                                                                                                                                                                                                                                                                                                                                                                                                                                                         \n",
            "\n",
            "Original:  b\"If you a purist, don't waste your time - otherwise, hold onto your hat and enjoy the adventure. I loved the Stewart Granger/Deborah Kerr version - I've seen it dozens of times, but this film is every bit as good, only different. I won't detail the differences because it would spoil the film. Also, it is a pleasure to see Alison Doody again (I'm a huge Indiana Jones fan), Patrick Swayze is good as Quatermain, and the supporting cast is superb. I find the quality of the supporting cast one of the trademarks of a Hallmark Production and this film was no exception. The cinematography is splendid and the score is perfect. If you are looking for entertainment, you won't be disappointed.\"\n",
            "Round-trip:  if you a [UNK] dont waste your time otherwise [UNK] [UNK] your [UNK] and enjoy the [UNK] i loved the [UNK] [UNK] [UNK] version ive seen it [UNK] of times but this film is every bit as good only different i wont [UNK] the [UNK] because it would [UNK] the film also it is a [UNK] to see [UNK] [UNK] again im a huge [UNK] [UNK] fan [UNK] [UNK] is good as [UNK] and the supporting cast is superb i find the quality of the supporting cast one of the [UNK] of a [UNK] production and this film was no [UNK] the cinematography is [UNK] and the score is perfect if you are looking for entertainment you wont be disappointed                                                                                                                                                                                                                                                                                                                                                                                                                                                                                                                                                                                                                                                                                                                                                                                                                                      \n",
            "\n",
            "Original:  b'Saturday June 3, 6:30pm The Neptune<br /><br />Monday June 5, 4:30pm The Neptune<br /><br />Few celebrations of ethnic and cultural identity succeed as mightily as Carlos Saura\\'s brilliant interpretation of Isaac Albeniz\\' masterpiece Iberia Suite. At the approach of its centennial, Saura drew together an unprecedented wealth of talent from the Spanish performing arts community to create this quintessential love song to their homeland. The twelve \"impressions\" of the suite are presented without narrative in stark surroundings, allowing the power of each performance to explode before Saura\\'s camera. Creative use of large flats and mirrors, moved throughout the set, combined with screens, shadows, fire, rain and rear projection add glorious dramatic effects to the varied selections of song, dance and instrumental performance. Photographs of Albeniz reappear throughout the program, connecting the passion of the music to its great creator. Saura encompasses all Spaniards on his stage from the beautiful elegance of elderly flamenco dancers in traditional costume to children joyously dancing with their instructors.'\n",
            "Round-trip:  [UNK] [UNK] 3 [UNK] the [UNK] br [UNK] [UNK] 5 [UNK] the [UNK] br few [UNK] of [UNK] and [UNK] [UNK] [UNK] as [UNK] as [UNK] [UNK] brilliant [UNK] of [UNK] [UNK] [UNK] [UNK] [UNK] at the [UNK] of its [UNK] [UNK] [UNK] together an [UNK] [UNK] of talent from the [UNK] [UNK] [UNK] [UNK] to create this [UNK] love song to their [UNK] the [UNK] [UNK] of the [UNK] are [UNK] without [UNK] in [UNK] [UNK] [UNK] the power of each performance to [UNK] before [UNK] camera [UNK] use of [UNK] [UNK] and [UNK] [UNK] throughout the set [UNK] with [UNK] [UNK] fire [UNK] and [UNK] [UNK] add [UNK] dramatic effects to the [UNK] [UNK] of song dance and [UNK] performance [UNK] of [UNK] [UNK] throughout the [UNK] [UNK] the [UNK] of the music to its great [UNK] [UNK] [UNK] all [UNK] on his stage from the beautiful [UNK] of [UNK] [UNK] [UNK] in [UNK] [UNK] to children [UNK] [UNK] with their [UNK]                                                                                                                                                                                                                                                                                                                                                                                                                                                                                                                                                                                                                                                                                                                                                                                          \n",
            "\n"
          ]
        }
      ]
    },
    {
      "cell_type": "code",
      "source": [
        "model = tf.keras.Sequential([\n",
        "    encoder,\n",
        "    tf.keras.layers.Embedding(\n",
        "        input_dim=len(encoder.get_vocabulary()),\n",
        "        output_dim=64,\n",
        "        # Use masking to handle the variable sequence lengths\n",
        "        mask_zero=True),\n",
        "    tf.keras.layers.Bidirectional(tf.keras.layers.LSTM(64)),\n",
        "    tf.keras.layers.Dense(64, activation='relu'),\n",
        "    tf.keras.layers.Dense(1)\n",
        "])"
      ],
      "metadata": {
        "id": "RY6Q7GQW63Sa"
      },
      "execution_count": 15,
      "outputs": []
    },
    {
      "cell_type": "code",
      "source": [
        "print([layer.supports_masking for layer in model.layers])"
      ],
      "metadata": {
        "colab": {
          "base_uri": "https://localhost:8080/"
        },
        "id": "caQAdcB567AF",
        "outputId": "97521ccb-b39d-4bea-8d89-e9fa497dd1ec"
      },
      "execution_count": 17,
      "outputs": [
        {
          "output_type": "stream",
          "name": "stdout",
          "text": [
            "[False, True, True, True, True]\n"
          ]
        }
      ]
    },
    {
      "cell_type": "code",
      "source": [
        "# predict on a sample text without padding.\n",
        "\n",
        "sample_text = ('The movie was cool. The animation and the graphics '\n",
        "               'were out of this world. I would recommend this movie.')\n",
        "predictions = model.predict(np.array([sample_text]))\n",
        "print(predictions[0])"
      ],
      "metadata": {
        "colab": {
          "base_uri": "https://localhost:8080/"
        },
        "id": "IJ1iqsYO69Zp",
        "outputId": "45e2fdbd-c70a-4218-9f84-146666f3c30b"
      },
      "execution_count": 18,
      "outputs": [
        {
          "output_type": "stream",
          "name": "stdout",
          "text": [
            "1/1 [==============================] - 4s 4s/step\n",
            "[-0.00310168]\n"
          ]
        }
      ]
    },
    {
      "cell_type": "code",
      "source": [
        "# predict on a sample text with padding\n",
        "\n",
        "padding = \"the \" * 2000\n",
        "predictions = model.predict(np.array([sample_text, padding]))\n",
        "print(predictions[0])"
      ],
      "metadata": {
        "colab": {
          "base_uri": "https://localhost:8080/"
        },
        "id": "uRCV2zXC7DOe",
        "outputId": "58b18594-8cb5-4a03-bc66-a189a94dfbb2"
      },
      "execution_count": 19,
      "outputs": [
        {
          "output_type": "stream",
          "name": "stdout",
          "text": [
            "1/1 [==============================] - 0s 487ms/step\n",
            "[-0.00310168]\n"
          ]
        }
      ]
    },
    {
      "cell_type": "code",
      "source": [
        "model.compile(loss=tf.keras.losses.BinaryCrossentropy(from_logits=True),\n",
        "              optimizer=tf.keras.optimizers.Adam(1e-4),\n",
        "              metrics=['accuracy'])"
      ],
      "metadata": {
        "id": "oVYCavf67IOX"
      },
      "execution_count": 20,
      "outputs": []
    },
    {
      "cell_type": "code",
      "source": [
        "history = model.fit(train_dataset, epochs=10,\n",
        "                    validation_data=test_dataset,\n",
        "                    validation_steps=30)"
      ],
      "metadata": {
        "colab": {
          "base_uri": "https://localhost:8080/"
        },
        "id": "A5lcueez7KD2",
        "outputId": "dfe295b2-364f-4c87-f26c-e06dd7d5436d"
      },
      "execution_count": 22,
      "outputs": [
        {
          "output_type": "stream",
          "name": "stdout",
          "text": [
            "Epoch 1/10\n",
            "391/391 [==============================] - 690s 2s/step - loss: 0.6473 - accuracy: 0.5586 - val_loss: 0.4748 - val_accuracy: 0.7573\n",
            "Epoch 2/10\n",
            "391/391 [==============================] - 684s 2s/step - loss: 0.4075 - accuracy: 0.8090 - val_loss: 0.3795 - val_accuracy: 0.8370\n",
            "Epoch 3/10\n",
            "391/391 [==============================] - 702s 2s/step - loss: 0.3499 - accuracy: 0.8464 - val_loss: 0.3469 - val_accuracy: 0.8427\n",
            "Epoch 4/10\n",
            "391/391 [==============================] - 683s 2s/step - loss: 0.3255 - accuracy: 0.8590 - val_loss: 0.3379 - val_accuracy: 0.8536\n",
            "Epoch 5/10\n",
            "391/391 [==============================] - 688s 2s/step - loss: 0.3144 - accuracy: 0.8668 - val_loss: 0.3416 - val_accuracy: 0.8411\n",
            "Epoch 6/10\n",
            "391/391 [==============================] - 686s 2s/step - loss: 0.3067 - accuracy: 0.8678 - val_loss: 0.3242 - val_accuracy: 0.8505\n",
            "Epoch 7/10\n",
            "391/391 [==============================] - 693s 2s/step - loss: 0.3014 - accuracy: 0.8718 - val_loss: 0.3242 - val_accuracy: 0.8568\n",
            "Epoch 8/10\n",
            "391/391 [==============================] - 672s 2s/step - loss: 0.3011 - accuracy: 0.8707 - val_loss: 0.3211 - val_accuracy: 0.8547\n",
            "Epoch 9/10\n",
            "391/391 [==============================] - 677s 2s/step - loss: 0.3017 - accuracy: 0.8708 - val_loss: 0.3183 - val_accuracy: 0.8599\n",
            "Epoch 10/10\n",
            "391/391 [==============================] - 679s 2s/step - loss: 0.2951 - accuracy: 0.8756 - val_loss: 0.3233 - val_accuracy: 0.8521\n"
          ]
        }
      ]
    },
    {
      "cell_type": "code",
      "source": [
        "test_loss, test_acc = model.evaluate(test_dataset)\n",
        "\n",
        "print('Test Loss:', test_loss)\n",
        "print('Test Accuracy:', test_acc)"
      ],
      "metadata": {
        "colab": {
          "base_uri": "https://localhost:8080/"
        },
        "id": "3T4Q9sES7LO2",
        "outputId": "a5a909ab-1253-487f-aa6e-4571abd65b92"
      },
      "execution_count": 23,
      "outputs": [
        {
          "output_type": "stream",
          "name": "stdout",
          "text": [
            "391/391 [==============================] - 159s 406ms/step - loss: 0.3191 - accuracy: 0.8520\n",
            "Test Loss: 0.319088876247406\n",
            "Test Accuracy: 0.8519999980926514\n"
          ]
        }
      ]
    },
    {
      "cell_type": "code",
      "source": [
        "plt.figure(figsize=(16, 8))\n",
        "plt.subplot(1, 2, 1)\n",
        "plot_graphs(history, 'accuracy')\n",
        "plt.ylim(None, 1)\n",
        "plt.subplot(1, 2, 2)\n",
        "plot_graphs(history, 'loss')\n",
        "plt.ylim(0, None)"
      ],
      "metadata": {
        "colab": {
          "base_uri": "https://localhost:8080/",
          "height": 718
        },
        "id": "UshHkv2rWaNX",
        "outputId": "b580c808-692f-46c2-ad7a-21261b9b99f7"
      },
      "execution_count": 24,
      "outputs": [
        {
          "output_type": "execute_result",
          "data": {
            "text/plain": [
              "(0.0, 0.6648980811238289)"
            ]
          },
          "metadata": {},
          "execution_count": 24
        },
        {
          "output_type": "display_data",
          "data": {
            "text/plain": [
              "<Figure size 1600x800 with 2 Axes>"
            ],
            "image/png": "[encoded data removed]"
          },
          "metadata": {}
        }
      ]
    },
    {
      "cell_type": "code",
      "source": [
        "sample_text = ('The movie was cool. The animation and the graphics '\n",
        "'were out of this world. I would recommend this movie.')\n",
        "predictions = model.predict(np.array([sample_text]))"
      ],
      "metadata": {
        "colab": {
          "base_uri": "https://localhost:8080/"
        },
        "id": "30wtPBMVXPby",
        "outputId": "d6cacc92-5b24-4b7a-c57c-d0b8e18121e5"
      },
      "execution_count": 26,
      "outputs": [
        {
          "output_type": "stream",
          "name": "stdout",
          "text": [
            "1/1 [==============================] - 3s 3s/step\n"
          ]
        }
      ]
    },
    {
      "cell_type": "code",
      "source": [
        "model = tf.keras.Sequential([\n",
        "  encoder,\n",
        "  tf.keras.layers.Embedding(len(encoder.get_vocabulary()), 64, mask_zero=True),\n",
        "  tf.keras.layers.Bidirectional(tf.keras.layers.LSTM(64, return_sequences=True)),\n",
        "  tf.keras.layers.Bidirectional(tf.keras.layers.LSTM(32)),\n",
        "  tf.keras.layers.Dense(64, activation='relu'),\n",
        "  tf.keras.layers.Dropout(0.5),\n",
        "  tf.keras.layers.Dense(1)\n",
        "])"
      ],
      "metadata": {
        "id": "28kkxwmkXSrt"
      },
      "execution_count": 28,
      "outputs": []
    },
    {
      "cell_type": "code",
      "source": [
        "model.compile(loss=tf.keras.losses.BinaryCrossentropy(from_logits=True),\n",
        "  optimizer=tf.keras.optimizers.Adam(1e-4),\n",
        "  metrics=['accuracy'])"
      ],
      "metadata": {
        "id": "kmRR6eMnXXHL"
      },
      "execution_count": 29,
      "outputs": []
    },
    {
      "cell_type": "code",
      "source": [
        "history = model.fit(train_dataset, epochs=10,\n",
        " validation_data=test_dataset,\n",
        " validation_steps=30)"
      ],
      "metadata": {
        "id": "WqIecD6DXhgH"
      },
      "execution_count": null,
      "outputs": []
    }
  ]
}