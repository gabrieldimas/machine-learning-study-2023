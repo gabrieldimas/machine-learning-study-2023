{
 "cells": [
  {
   "cell_type": "markdown",
   "metadata": {},
   "source": [
    "Linear Regresion - Case Pizza"
   ]
  },
  {
   "cell_type": "code",
   "execution_count": 1,
   "metadata": {},
   "outputs": [
    {
     "data": {
      "image/png": "[encoded data removed]",
      "text/plain": [
       "<Figure size 432x288 with 1 Axes>"
      ]
     },
     "metadata": {
      "needs_background": "light"
     },
     "output_type": "display_data"
    }
   ],
   "source": [
    "import numpy as np\n",
    "import matplotlib.pyplot as plt\n",
    "\n",
    "# Data\n",
    "diameter_pizza = np.array([6, 8, 10, 14, 18])\n",
    "harga_pizza = np.array([7, 9, 13, 17.5, 18])\n",
    "\n",
    "# Estimasi parameter\n",
    "beta_0 = 1.82\n",
    "beta_1 = 0.974\n",
    "\n",
    "# Model regresi\n",
    "harga_prediksi = beta_0 + beta_1 * diameter_pizza\n",
    "\n",
    "# Membuat plot\n",
    "plt.scatter(diameter_pizza, harga_pizza, label='Data Asli')\n",
    "plt.plot(diameter_pizza, harga_prediksi, color='red', label='Model Regresi')\n",
    "plt.xlabel('Diameter Pizza (inci)')\n",
    "plt.ylabel('Harga Pizza (dolar)')\n",
    "plt.title('Simple Linear Regression: Hubungan Diameter Pizza dengan Harga Pizza')\n",
    "plt.legend()\n",
    "plt.grid(True)\n",
    "plt.show()\n"
   ]
  },
  {
   "cell_type": "markdown",
   "metadata": {},
   "source": [
    "RSS"
   ]
  },
  {
   "cell_type": "code",
   "execution_count": 2,
   "metadata": {},
   "outputs": [
    {
     "name": "stdout",
     "output_type": "stream",
     "text": [
      "RSS: 8.89488\n"
     ]
    }
   ],
   "source": [
    "import numpy as np\n",
    "\n",
    "# Data\n",
    "harga_pizza_asli = np.array([7, 9, 13, 17.5, 18])\n",
    "harga_pizza_prediksi = np.array([1.82 + 0.974 * 6, 1.82 + 0.974 * 8, 1.82 + 0.974 * 10, 1.82 + 0.974 * 14, 1.82 + 0.974 * 18])\n",
    "\n",
    "# Menghitung RSS\n",
    "RSS = np.sum((harga_pizza_asli - harga_pizza_prediksi) ** 2)\n",
    "print(\"RSS:\", RSS)"
   ]
  },
  {
   "cell_type": "markdown",
   "metadata": {},
   "source": [
    "Evaluasi Model Dengan R-squared (R2)"
   ]
  },
  {
   "cell_type": "code",
   "execution_count": 3,
   "metadata": {},
   "outputs": [
    {
     "name": "stdout",
     "output_type": "stream",
     "text": [
      "Predicted Price in Dollar: [ 7.664  9.612 11.56  15.456 19.352]\n",
      "Residual Sum of Squares (RSS) 8.89488\n",
      "Total Sum of Squares (TSS) 97.19999999999999\n",
      "R-squared (R2): 0.9084888888888889\n",
      "MAE (Mean Absolute Error): 1.2224\n",
      "MSE (Mean Squared Error): 1.7789760000000001\n"
     ]
    }
   ],
   "source": [
    "import numpy as np\n",
    "from sklearn.metrics import mean_absolute_error, mean_squared_error\n",
    "\n",
    "# Data\n",
    "harga_pizza_asli = np.array([7, 9, 13, 17.5, 18])\n",
    "diameter_pizza = np.array([6, 8, 10, 14, 18])\n",
    "\n",
    "# Estimasi parameter\n",
    "beta_0 = 1.82\n",
    "beta_1 = 0.974\n",
    "\n",
    "# Prediksi harga pizza\n",
    "harga_pizza_prediksi = beta_0 + beta_1 * diameter_pizza\n",
    "\n",
    "# Menghitung RSS (Residual Sum of Squares)\n",
    "RSS = np.sum((harga_pizza_asli - harga_pizza_prediksi) ** 2)\n",
    "\n",
    "# Menghitung TSS (Total Sum of Squares)\n",
    "TSS = np.sum((harga_pizza_asli - np.mean(harga_pizza_asli)) ** 2)\n",
    "\n",
    "# Menghitung R-squared (R2)\n",
    "R2 = 1 - (RSS / TSS)\n",
    "\n",
    "# Menampilkan predicted price in dollar\n",
    "print(\"Predicted Price in Dollar:\", harga_pizza_prediksi)\n",
    "\n",
    "# Menghitung MAE (Mean Absolute Error)\n",
    "mae = mean_absolute_error(harga_pizza_asli, harga_pizza_prediksi)\n",
    "\n",
    "# Menghitung MSE (Mean Squared Error)\n",
    "mse = mean_squared_error(harga_pizza_asli, harga_pizza_prediksi)\n",
    "\n",
    "print(\"Residual Sum of Squares (RSS)\", RSS)\n",
    "print(\"Total Sum of Squares (TSS)\", TSS)\n",
    "print(\"R-squared (R2):\", R2)\n",
    "print(\"MAE (Mean Absolute Error):\", mae)\n",
    "print(\"MSE (Mean Squared Error):\", mse)"
   ]
  },
  {
   "cell_type": "markdown",
   "metadata": {},
   "source": [
    "Multiple Linear Regression"
   ]
  },
  {
   "cell_type": "code",
   "execution_count": 4,
   "metadata": {},
   "outputs": [
    {
     "name": "stdout",
     "output_type": "stream",
     "text": [
      "Hasil Prediksi Harga Pizza:\n",
      "Data Test 1: Prediksi $9.00, Target $11.00\n",
      "Data Test 2: Prediksi $11.97, Target $8.50\n",
      "Data Test 3: Prediksi $12.31, Target $15.00\n",
      "Data Test 4: Prediksi $17.81, Target $18.00\n",
      "Data Test 5: Prediksi $15.27, Target $11.00\n",
      "\n",
      "R-squared (R2): 0.27\n"
     ]
    }
   ],
   "source": [
    "import numpy as np\n",
    "from sklearn.linear_model import LinearRegression\n",
    "from sklearn.metrics import r2_score\n",
    "\n",
    "# Data training\n",
    "X_train = np.array([\n",
    "    [6, 2],\n",
    "    [8, 1],\n",
    "    [10, 0],\n",
    "    [14, 2],\n",
    "    [18, 3]\n",
    "])\n",
    "y_train = np.array([7, 9, 13, 17.5, 18])\n",
    "\n",
    "# Data testing\n",
    "X_test = np.array([\n",
    "    [8, 2],\n",
    "    [9, 0],\n",
    "    [11, 2],\n",
    "    [16, 2],\n",
    "    [12, 0]\n",
    "])\n",
    "y_test = np.array([11, 8.5, 15, 18, 11])\n",
    "\n",
    "# Inisialisasi model Linear Regression\n",
    "model = LinearRegression()\n",
    "\n",
    "# Melatih model dengan data training\n",
    "model.fit(X_train, y_train)\n",
    "\n",
    "# Melakukan prediksi dengan data testing\n",
    "y_pred = model.predict(X_test)\n",
    "\n",
    "# Menghitung R-squared (R2) dari model terlatih\n",
    "r2 = r2_score(y_test, y_pred)\n",
    "\n",
    "# Menampilkan hasil prediksi dan nilai target\n",
    "print(\"Hasil Prediksi Harga Pizza:\")\n",
    "for i in range(len(y_pred)):\n",
    "    print(f\"Data Test {i + 1}: Prediksi ${y_pred[i]:.2f}, Target ${y_test[i]:.2f}\")\n",
    "\n",
    "# Menampilkan nilai R-squared\n",
    "print(f\"\\nR-squared (R2): {r2:.2f}\")\n"
   ]
  },
  {
   "cell_type": "markdown",
   "metadata": {},
   "source": [
    "Regresi Polynomial"
   ]
  },
  {
   "cell_type": "code",
   "execution_count": 5,
   "metadata": {},
   "outputs": [
    {
     "data": {
      "image/png": "[encoded data removed]",
      "text/plain": [
       "<Figure size 432x288 with 1 Axes>"
      ]
     },
     "metadata": {
      "needs_background": "light"
     },
     "output_type": "display_data"
    },
    {
     "name": "stdout",
     "output_type": "stream",
     "text": [
      "R-squared (R2): 0.34\n"
     ]
    }
   ],
   "source": [
    "import numpy as np\n",
    "import matplotlib.pyplot as plt\n",
    "from sklearn.preprocessing import PolynomialFeatures\n",
    "from sklearn.linear_model import LinearRegression\n",
    "from sklearn.metrics import r2_score\n",
    "\n",
    "# Data training\n",
    "X_train = np.array([\n",
    "    [6, 2],\n",
    "    [8, 1],\n",
    "    [10, 0],\n",
    "    [14, 2],\n",
    "    [18, 3]\n",
    "])\n",
    "y_train = np.array([7, 9, 13, 17.5, 18])\n",
    "\n",
    "# Data testing\n",
    "X_test = np.array([\n",
    "    [8, 2],\n",
    "    [9, 0],\n",
    "    [11, 2],\n",
    "    [16, 2],\n",
    "    [12, 0]\n",
    "])\n",
    "y_test = np.array([11, 8.5, 15, 18, 11])\n",
    "\n",
    "# Inisialisasi model Linear Regression\n",
    "model = LinearRegression()\n",
    "\n",
    "# Membentuk polinomial fitur\n",
    "poly = PolynomialFeatures(degree=2)  # Ganti degree sesuai dengan derajat polinomial yang diinginkan\n",
    "X_train_poly = poly.fit_transform(X_train)\n",
    "X_test_poly = poly.transform(X_test)\n",
    "\n",
    "# Melatih model dengan data training\n",
    "model.fit(X_train_poly, y_train)\n",
    "\n",
    "# Melakukan prediksi dengan data testing\n",
    "y_pred = model.predict(X_test_poly)\n",
    "\n",
    "# Menghitung R-squared (R2) dari model terlatih\n",
    "r2 = r2_score(y_test, y_pred)\n",
    "\n",
    "# Plot hasil regresi\n",
    "plt.scatter(X_test[:, 0], y_test, color='blue', label='Data Testing')\n",
    "plt.scatter(X_test[:, 0], y_pred, color='red', label='Prediksi')\n",
    "plt.title('Grafik Polynomial Regression')\n",
    "plt.xlabel('Diameter Pizza (inci)')\n",
    "plt.ylabel('Harga Pizza (dolar)')\n",
    "plt.legend()\n",
    "plt.show()\n",
    "\n",
    "# Menampilkan nilai R-squared\n",
    "print(f\"R-squared (R2): {r2:.2f}\")\n"
   ]
  },
  {
   "cell_type": "code",
   "execution_count": null,
   "metadata": {},
   "outputs": [],
   "source": []
  }
 ],
 "metadata": {
  "kernelspec": {
   "display_name": "base",
   "language": "python",
   "name": "python3"
  },
  "language_info": {
   "codemirror_mode": {
    "name": "ipython",
    "version": 3
   },
   "file_extension": ".py",
   "mimetype": "text/x-python",
   "name": "python",
   "nbconvert_exporter": "python",
   "pygments_lexer": "ipython3",
   "version": "3.8.8"
  },
  "orig_nbformat": 4
 },
 "nbformat": 4,
 "nbformat_minor": 2
}
