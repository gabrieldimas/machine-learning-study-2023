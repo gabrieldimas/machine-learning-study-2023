{
  "nbformat": 4,
  "nbformat_minor": 0,
  "metadata": {
    "colab": {
      "provenance": [],
      "gpuType": "T4",
      "authorship_tag": "ABX9TyM7hBZbR0uZ43tD0UMjg4W7",
      "include_colab_link": true
    },
    "kernelspec": {
      "name": "python3",
      "display_name": "Python 3"
    },
    "language_info": {
      "name": "python"
    },
    "accelerator": "GPU"
  },
  "cells": [
    {
      "cell_type": "markdown",
      "metadata": {
        "id": "view-in-github",
        "colab_type": "text"
      },
      "source": [
        "<a href=\"https://colab.research.google.com/github/gabrieldimas/machine-learning-study-2023/blob/main/Week10/week10_1.ipynb\" target=\"_parent\"><img src=\"https://colab.research.google.com/assets/colab-badge.svg\" alt=\"Open In Colab\"/></a>"
      ]
    },
    {
      "cell_type": "markdown",
      "source": [
        "### Praktikum 1\n"
      ],
      "metadata": {
        "id": "UsfYJLKkf3fG"
      }
    },
    {
      "cell_type": "markdown",
      "source": [
        "Langkah 1 - Import Library"
      ],
      "metadata": {
        "id": "93wJmGItgjEb"
      }
    },
    {
      "cell_type": "code",
      "execution_count": 1,
      "metadata": {
        "id": "eMzN34JAfnlY"
      },
      "outputs": [],
      "source": [
        "import tensorflow as tf\n",
        "from keras.preprocessing.image import ImageDataGenerator"
      ]
    },
    {
      "cell_type": "markdown",
      "source": [
        "Langkah 2 - Pra Pengolahan Data"
      ],
      "metadata": {
        "id": "PftA2KRwgmZH"
      }
    },
    {
      "cell_type": "code",
      "source": [
        "from google.colab import drive\n",
        "drive.mount('/content/drive')"
      ],
      "metadata": {
        "colab": {
          "base_uri": "https://localhost:8080/"
        },
        "id": "YQC46SiWhL3N",
        "outputId": "f159f76c-a665-4585-deb7-25af0647ea9d"
      },
      "execution_count": 2,
      "outputs": [
        {
          "output_type": "stream",
          "name": "stdout",
          "text": [
            "Mounted at /content/drive\n"
          ]
        }
      ]
    },
    {
      "cell_type": "code",
      "source": [
        "train_datagen = ImageDataGenerator(rescale = 1./255,\n",
        "                                   shear_range = 0.2,\n",
        "                                   zoom_range = 0.2,\n",
        "                                   horizontal_flip = True)\n",
        "training_set = train_datagen.flow_from_directory('/content/drive/MyDrive/Kuliah/MachineLearning/assets/dataset/dataset/training_set',\n",
        "                                                 target_size = (64, 64),\n",
        "                                                 batch_size = 32,\n",
        "                                                 class_mode = 'binary')"
      ],
      "metadata": {
        "colab": {
          "base_uri": "https://localhost:8080/"
        },
        "id": "btmBY9PYggyk",
        "outputId": "4ca4d65a-99e9-45be-c8e1-8be0a3d737c5"
      },
      "execution_count": 3,
      "outputs": [
        {
          "output_type": "stream",
          "name": "stdout",
          "text": [
            "Found 8000 images belonging to 2 classes.\n"
          ]
        }
      ]
    },
    {
      "cell_type": "code",
      "source": [
        "test_datagen = ImageDataGenerator(rescale = 1./255)\n",
        "test_set = test_datagen.flow_from_directory('/content/drive/MyDrive/Kuliah/MachineLearning/assets/dataset/dataset/test_set',\n",
        "                                            target_size = (64, 64),\n",
        "                                            batch_size = 32,\n",
        "                                            class_mode = 'binary')"
      ],
      "metadata": {
        "colab": {
          "base_uri": "https://localhost:8080/"
        },
        "id": "nk9X6-RKgno-",
        "outputId": "08234171-59f3-45e5-9ab1-5315c10a6b1f"
      },
      "execution_count": 4,
      "outputs": [
        {
          "output_type": "stream",
          "name": "stdout",
          "text": [
            "Found 2000 images belonging to 2 classes.\n"
          ]
        }
      ]
    },
    {
      "cell_type": "markdown",
      "source": [
        "Langkah 3 - Pembuatan Model CNN"
      ],
      "metadata": {
        "id": "KGRCUCTihg1o"
      }
    },
    {
      "cell_type": "code",
      "source": [
        "cnn = tf.keras.models.Sequential()"
      ],
      "metadata": {
        "id": "AoG68PDTheoP"
      },
      "execution_count": 5,
      "outputs": []
    },
    {
      "cell_type": "code",
      "source": [
        "cnn.add(tf.keras.layers.Conv2D(filters=32, kernel_size=3, activation='relu', input_shape=[64, 64, 3]))"
      ],
      "metadata": {
        "id": "RjfxzyeEhiK3"
      },
      "execution_count": 6,
      "outputs": []
    },
    {
      "cell_type": "code",
      "source": [
        "cnn.add(tf.keras.layers.MaxPool2D(pool_size=2, strides=2))"
      ],
      "metadata": {
        "id": "RyQVoV6IhkDC"
      },
      "execution_count": 7,
      "outputs": []
    },
    {
      "cell_type": "code",
      "source": [
        "cnn.add(tf.keras.layers.Conv2D(filters=32, kernel_size=3, activation='relu'))\n",
        "cnn.add(tf.keras.layers.MaxPool2D(pool_size=2, strides=2))"
      ],
      "metadata": {
        "id": "KiEro58Qhlft"
      },
      "execution_count": 8,
      "outputs": []
    },
    {
      "cell_type": "code",
      "source": [
        "cnn.add(tf.keras.layers.Flatten())"
      ],
      "metadata": {
        "id": "UEBd_PYNhmlD"
      },
      "execution_count": 9,
      "outputs": []
    },
    {
      "cell_type": "code",
      "source": [
        "cnn.add(tf.keras.layers.Dense(units=128, activation='relu'))"
      ],
      "metadata": {
        "id": "9tnq77ZGhn3D"
      },
      "execution_count": 10,
      "outputs": []
    },
    {
      "cell_type": "code",
      "source": [
        "cnn.add(tf.keras.layers.Dense(units=1, activation='sigmoid'))"
      ],
      "metadata": {
        "id": "RH3Mupc5hp6Z"
      },
      "execution_count": 11,
      "outputs": []
    },
    {
      "cell_type": "code",
      "source": [
        "cnn.compile(optimizer = 'adam', loss = 'binary_crossentropy', metrics = ['accuracy'])"
      ],
      "metadata": {
        "id": "60GTmprehrB4"
      },
      "execution_count": 12,
      "outputs": []
    },
    {
      "cell_type": "markdown",
      "source": [
        "Langkah 4 - Fit CNN"
      ],
      "metadata": {
        "id": "8tOoVWdjh4qS"
      }
    },
    {
      "cell_type": "code",
      "source": [
        "cnn.fit(x = training_set, validation_data = test_set, epochs = 25)"
      ],
      "metadata": {
        "colab": {
          "base_uri": "https://localhost:8080/"
        },
        "id": "8__XZ8cZhsMI",
        "outputId": "0ac7f9a0-0b77-405a-ded7-16d824e4f725"
      },
      "execution_count": 13,
      "outputs": [
        {
          "output_type": "stream",
          "name": "stdout",
          "text": [
            "Epoch 1/25\n",
            "250/250 [==============================] - 965s 4s/step - loss: 0.6743 - accuracy: 0.5704 - val_loss: 0.6242 - val_accuracy: 0.6410\n",
            "Epoch 2/25\n",
            "250/250 [==============================] - 44s 175ms/step - loss: 0.5994 - accuracy: 0.6777 - val_loss: 0.5683 - val_accuracy: 0.7135\n",
            "Epoch 3/25\n",
            "250/250 [==============================] - 46s 183ms/step - loss: 0.5606 - accuracy: 0.7149 - val_loss: 0.5623 - val_accuracy: 0.7255\n",
            "Epoch 4/25\n",
            "250/250 [==============================] - 39s 157ms/step - loss: 0.5303 - accuracy: 0.7331 - val_loss: 0.5098 - val_accuracy: 0.7500\n",
            "Epoch 5/25\n",
            "250/250 [==============================] - 39s 156ms/step - loss: 0.5093 - accuracy: 0.7506 - val_loss: 0.5021 - val_accuracy: 0.7545\n",
            "Epoch 6/25\n",
            "250/250 [==============================] - 38s 154ms/step - loss: 0.4857 - accuracy: 0.7691 - val_loss: 0.4841 - val_accuracy: 0.7715\n",
            "Epoch 7/25\n",
            "250/250 [==============================] - 41s 165ms/step - loss: 0.4731 - accuracy: 0.7725 - val_loss: 0.4873 - val_accuracy: 0.7655\n",
            "Epoch 8/25\n",
            "250/250 [==============================] - 39s 155ms/step - loss: 0.4630 - accuracy: 0.7806 - val_loss: 0.4819 - val_accuracy: 0.7695\n",
            "Epoch 9/25\n",
            "250/250 [==============================] - 38s 153ms/step - loss: 0.4509 - accuracy: 0.7864 - val_loss: 0.4804 - val_accuracy: 0.7705\n",
            "Epoch 10/25\n",
            "250/250 [==============================] - 39s 155ms/step - loss: 0.4398 - accuracy: 0.7931 - val_loss: 0.4712 - val_accuracy: 0.7905\n",
            "Epoch 11/25\n",
            "250/250 [==============================] - 41s 163ms/step - loss: 0.4161 - accuracy: 0.8065 - val_loss: 0.4617 - val_accuracy: 0.8005\n",
            "Epoch 12/25\n",
            "250/250 [==============================] - 39s 155ms/step - loss: 0.4094 - accuracy: 0.8148 - val_loss: 0.4504 - val_accuracy: 0.7910\n",
            "Epoch 13/25\n",
            "250/250 [==============================] - 38s 154ms/step - loss: 0.4004 - accuracy: 0.8179 - val_loss: 0.4636 - val_accuracy: 0.7985\n",
            "Epoch 14/25\n",
            "250/250 [==============================] - 38s 153ms/step - loss: 0.3929 - accuracy: 0.8161 - val_loss: 0.4535 - val_accuracy: 0.8015\n",
            "Epoch 15/25\n",
            "250/250 [==============================] - 39s 158ms/step - loss: 0.3722 - accuracy: 0.8345 - val_loss: 0.4580 - val_accuracy: 0.8035\n",
            "Epoch 16/25\n",
            "250/250 [==============================] - 43s 173ms/step - loss: 0.3667 - accuracy: 0.8328 - val_loss: 0.4486 - val_accuracy: 0.8060\n",
            "Epoch 17/25\n",
            "250/250 [==============================] - 39s 156ms/step - loss: 0.3617 - accuracy: 0.8403 - val_loss: 0.4440 - val_accuracy: 0.8115\n",
            "Epoch 18/25\n",
            "250/250 [==============================] - 39s 155ms/step - loss: 0.3478 - accuracy: 0.8460 - val_loss: 0.4579 - val_accuracy: 0.8145\n",
            "Epoch 19/25\n",
            "250/250 [==============================] - 38s 152ms/step - loss: 0.3450 - accuracy: 0.8456 - val_loss: 0.5076 - val_accuracy: 0.7795\n",
            "Epoch 20/25\n",
            "250/250 [==============================] - 43s 173ms/step - loss: 0.3300 - accuracy: 0.8530 - val_loss: 0.4439 - val_accuracy: 0.8120\n",
            "Epoch 21/25\n",
            "250/250 [==============================] - 38s 153ms/step - loss: 0.3231 - accuracy: 0.8618 - val_loss: 0.4511 - val_accuracy: 0.8135\n",
            "Epoch 22/25\n",
            "250/250 [==============================] - 41s 165ms/step - loss: 0.3261 - accuracy: 0.8560 - val_loss: 0.4636 - val_accuracy: 0.8065\n",
            "Epoch 23/25\n",
            "250/250 [==============================] - 39s 156ms/step - loss: 0.2991 - accuracy: 0.8665 - val_loss: 0.4371 - val_accuracy: 0.8145\n",
            "Epoch 24/25\n",
            "250/250 [==============================] - 38s 152ms/step - loss: 0.2900 - accuracy: 0.8748 - val_loss: 0.4626 - val_accuracy: 0.8055\n",
            "Epoch 25/25\n",
            "250/250 [==============================] - 38s 152ms/step - loss: 0.2832 - accuracy: 0.8800 - val_loss: 0.5156 - val_accuracy: 0.7870\n"
          ]
        },
        {
          "output_type": "execute_result",
          "data": {
            "text/plain": [
              "<keras.src.callbacks.History at 0x7fc8980849a0>"
            ]
          },
          "metadata": {},
          "execution_count": 13
        }
      ]
    },
    {
      "cell_type": "markdown",
      "source": [
        "Langkah 5 - Prediksi dengan 1 Citra"
      ],
      "metadata": {
        "id": "ZlUQ5UeIh79R"
      }
    },
    {
      "cell_type": "code",
      "source": [
        "import numpy as np\n",
        "from keras.preprocessing import image\n",
        "test_image = image.load_img('/content/drive/MyDrive/Kuliah/MachineLearning/assets/dataset/dataset/single_prediction/cat_or_dog_1.jpg', target_size = (64, 64))\n",
        "test_image = image.img_to_array(test_image)\n",
        "test_image = np.expand_dims(test_image, axis = 0)\n",
        "result = cnn.predict(test_image)\n",
        "training_set.class_indices\n",
        "if result[0][0] == 1:\n",
        "  prediction = 'dog'\n",
        "  print(\"Dog\")\n",
        "else:\n",
        "  prediction = 'cat'\n",
        "  print(\"Cat\")"
      ],
      "metadata": {
        "colab": {
          "base_uri": "https://localhost:8080/"
        },
        "id": "fPZm3tOfh5uD",
        "outputId": "3bb28400-39a6-4ff3-c3ab-a694811af046"
      },
      "execution_count": 17,
      "outputs": [
        {
          "output_type": "stream",
          "name": "stdout",
          "text": [
            "1/1 [==============================] - 0s 27ms/step\n",
            "Dog\n"
          ]
        }
      ]
    }
  ]
}